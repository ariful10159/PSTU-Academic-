{
 "cells": [
  {
   "cell_type": "code",
   "execution_count": null,
   "id": "bc3c45ec",
   "metadata": {},
   "outputs": [],
   "source": [
    "#  Bisection method to estimate optimal learning rate(Group 34)\n",
    "\n",
    "# Step 1: Required Libraries\n",
    "\n",
    "# নিচের লাইব্রেরিগুলো ডেটা প্রসেসিং, মডেল ট্রেনিং ও ইভালুয়েশনের জন্য দরকার।\n",
    "\n",
    "import pandas as pd\n",
    "\n",
    "import numpy as np\n",
    "\n",
    "from sklearn.model_selection import train_test_split\n",
    "\n",
    "from sklearn.preprocessing import StandardScaler, LabelEncoder\n",
    "\n",
    "from sklearn.linear_model import SGDClassifier\n",
    "\n",
    "from sklearn.metrics import log_loss, accuracy_score\n",
    "\n"
   ]
  },
  {
   "cell_type": "code",
   "execution_count": null,
   "id": "77fd350b",
   "metadata": {},
   "outputs": [],
   "source": [
    "# Step 2: Load the Iris Dataset\n",
    "\n",
    "# Iris ডেটাসেটটি লোড করা হচ্ছে।\n",
    "\n",
    "df = pd.read_csv('Iris.csv')"
   ]
  },
  {
   "cell_type": "code",
   "execution_count": null,
   "id": "f76490ec",
   "metadata": {},
   "outputs": [
    {
     "data": {
      "text/html": [
       "<div>\n",
       "<style scoped>\n",
       "    .dataframe tbody tr th:only-of-type {\n",
       "        vertical-align: middle;\n",
       "    }\n",
       "\n",
       "    .dataframe tbody tr th {\n",
       "        vertical-align: top;\n",
       "    }\n",
       "\n",
       "    .dataframe thead th {\n",
       "        text-align: right;\n",
       "    }\n",
       "</style>\n",
       "<table border=\"1\" class=\"dataframe\">\n",
       "  <thead>\n",
       "    <tr style=\"text-align: right;\">\n",
       "      <th></th>\n",
       "      <th>Id</th>\n",
       "      <th>SepalLengthCm</th>\n",
       "      <th>SepalWidthCm</th>\n",
       "      <th>PetalLengthCm</th>\n",
       "      <th>PetalWidthCm</th>\n",
       "      <th>Species</th>\n",
       "    </tr>\n",
       "  </thead>\n",
       "  <tbody>\n",
       "    <tr>\n",
       "      <th>0</th>\n",
       "      <td>1</td>\n",
       "      <td>5.1</td>\n",
       "      <td>3.5</td>\n",
       "      <td>1.4</td>\n",
       "      <td>0.2</td>\n",
       "      <td>Iris-setosa</td>\n",
       "    </tr>\n",
       "    <tr>\n",
       "      <th>1</th>\n",
       "      <td>2</td>\n",
       "      <td>4.9</td>\n",
       "      <td>3.0</td>\n",
       "      <td>1.4</td>\n",
       "      <td>0.2</td>\n",
       "      <td>Iris-setosa</td>\n",
       "    </tr>\n",
       "    <tr>\n",
       "      <th>2</th>\n",
       "      <td>3</td>\n",
       "      <td>4.7</td>\n",
       "      <td>3.2</td>\n",
       "      <td>1.3</td>\n",
       "      <td>0.2</td>\n",
       "      <td>Iris-setosa</td>\n",
       "    </tr>\n",
       "    <tr>\n",
       "      <th>3</th>\n",
       "      <td>4</td>\n",
       "      <td>4.6</td>\n",
       "      <td>3.1</td>\n",
       "      <td>1.5</td>\n",
       "      <td>0.2</td>\n",
       "      <td>Iris-setosa</td>\n",
       "    </tr>\n",
       "    <tr>\n",
       "      <th>4</th>\n",
       "      <td>5</td>\n",
       "      <td>5.0</td>\n",
       "      <td>3.6</td>\n",
       "      <td>1.4</td>\n",
       "      <td>0.2</td>\n",
       "      <td>Iris-setosa</td>\n",
       "    </tr>\n",
       "  </tbody>\n",
       "</table>\n",
       "</div>"
      ],
      "text/plain": [
       "   Id  SepalLengthCm  SepalWidthCm  PetalLengthCm  PetalWidthCm      Species\n",
       "0   1            5.1           3.5            1.4           0.2  Iris-setosa\n",
       "1   2            4.9           3.0            1.4           0.2  Iris-setosa\n",
       "2   3            4.7           3.2            1.3           0.2  Iris-setosa\n",
       "3   4            4.6           3.1            1.5           0.2  Iris-setosa\n",
       "4   5            5.0           3.6            1.4           0.2  Iris-setosa"
      ]
     },
     "execution_count": 19,
     "metadata": {},
     "output_type": "execute_result"
    }
   ],
   "source": [
    "# ডেটাসেটের প্রথম ৫টি সারি দেখানো হচ্ছে।\n",
    "\n",
    "df.head()"
   ]
  },
  {
   "cell_type": "code",
   "execution_count": null,
   "id": "71908ad7",
   "metadata": {},
   "outputs": [
    {
     "data": {
      "text/plain": [
       "(150, 6)"
      ]
     },
     "execution_count": 20,
     "metadata": {},
     "output_type": "execute_result"
    }
   ],
   "source": [
    "# ডেটাসেটের সারি ও কলামের সংখ্যা দেখানো হচ্ছে।\n",
    "\n",
    "df.shape"
   ]
  },
  {
   "cell_type": "code",
   "execution_count": null,
   "id": "8e8d4734",
   "metadata": {},
   "outputs": [
    {
     "data": {
      "text/plain": [
       "Id               0\n",
       "SepalLengthCm    0\n",
       "SepalWidthCm     0\n",
       "PetalLengthCm    0\n",
       "PetalWidthCm     0\n",
       "Species          0\n",
       "dtype: int64"
      ]
     },
     "execution_count": 21,
     "metadata": {},
     "output_type": "execute_result"
    }
   ],
   "source": [
    "# ডেটাসেটে কোনো missing value আছে কিনা চেক করা হচ্ছে।\n",
    "\n",
    "df.isnull().sum()"
   ]
  },
  {
   "cell_type": "code",
   "execution_count": null,
   "id": "fd16ee43",
   "metadata": {},
   "outputs": [],
   "source": [
    "# Step 3: Prepare Features and Target\n",
    "\n",
    "# Feature (X) এবং Target (y) আলাদা করা হচ্ছে।\n",
    "\n",
    "X = df.drop(\"Species\", axis=1)\n",
    "\n",
    "y = df[\"Species\"]\n",
    "\n",
    "\n",
    "\n",
    "# Target label গুলোকে সংখ্যায় রূপান্তর করা হচ্ছে (Label Encoding)।\n",
    "\n",
    "encoder = LabelEncoder()\n",
    "\n",
    "y = encoder.fit_transform(y)"
   ]
  },
  {
   "cell_type": "code",
   "execution_count": null,
   "id": "328eed59",
   "metadata": {},
   "outputs": [],
   "source": [
    "# Step 4: Split into Train and Validation Sets\n",
    "\n",
    "# ডেটাসেটকে ট্রেন ও ভ্যালিডেশন সেটে ভাগ ক\n",
    "# রা হচ্ছে।\n",
    "\n",
    "X_train, X_val, y_train, y_val = train_test_split(X, y, test_size=0.2, random_state=42)"
   ]
  },
  {
   "cell_type": "code",
   "execution_count": null,
   "id": "00ba009c",
   "metadata": {},
   "outputs": [],
   "source": [
    "# Step 5: Standardize the data\n",
    "\n",
    "# ফিচারগুলোকে স্কেল করা হচ্ছে যাতে সবগুলো একই স্কেলে থাকে।\n",
    "\n",
    "scaler = StandardScaler()\n",
    "\n",
    "X_train = scaler.fit_transform(X_train)\n",
    "\n",
    "X_val = scaler.transform(X_val)"
   ]
  },
  {
   "cell_type": "code",
   "execution_count": null,
   "id": "e547391b",
   "metadata": {},
   "outputs": [],
   "source": [
    "# Step 6: Function to Train Model and Return Loss\n",
    "\n",
    "# এই ফাংশনটি নির্দিষ্ট learning rate দিয়ে মডেল ট্রেন করে এবং validation loss রিটার্ন করে।\n",
    "\n",
    "def train_model(learning_rate):\n",
    "\n",
    "    model = SGDClassifier(loss='log_loss', learning_rate='constant', eta0=learning_rate, max_iter=1000, tol=1e-3, random_state=42)\n",
    "\n",
    "    model.fit(X_train, y_train)\n",
    "\n",
    "    y_prob = model.predict_proba(X_val)\n",
    "\n",
    "    loss = log_loss(y_val, y_prob)\n",
    "\n",
    "    return loss"
   ]
  },
  {
   "cell_type": "code",
   "execution_count": null,
   "id": "cbb4f55a",
   "metadata": {},
   "outputs": [],
   "source": [
    "# Step 7: Bisection/Ternary Search to Find Optimal Learning Rate\n",
    "\n",
    "# এই ফাংশনটি বাইনারি/টারনারি সার্চ ব্যবহার করে সবচেয়ে ভালো learning rate খুঁজে বের করে।\n",
    "\n",
    "def find_best_learning_rate(low=1e-6, high=1.0, tolerance=1e-4, max_iter=25):\n",
    "\n",
    "    for _ in range(max_iter):\n",
    "\n",
    "        mid1 = low + (high - low) / 3\n",
    "\n",
    "        mid2 = high - (high - low) / 3\n",
    "\n",
    "\n",
    "\n",
    "        loss1 = train_model(mid1)\n",
    "\n",
    "        loss2 = train_model(mid2)\n",
    "\n",
    "\n",
    "\n",
    "        if loss1 < loss2:\n",
    "\n",
    "            high = mid2\n",
    "\n",
    "        else:\n",
    "\n",
    "            low = mid1\n",
    "\n",
    "\n",
    "\n",
    "        if abs(high - low) < tolerance:\n",
    "\n",
    "            break\n",
    "\n",
    "\n",
    "\n",
    "    return (low + high) / 2"
   ]
  },
  {
   "cell_type": "code",
   "execution_count": null,
   "id": "38e97249",
   "metadata": {},
   "outputs": [
    {
     "name": "stdout",
     "output_type": "stream",
     "text": [
      "🔍 Best learning rate found: 0.999955\n"
     ]
    }
   ],
   "source": [
    "# Step 8: Estimate Optimal Learning Rate\n",
    "\n",
    "# উপরের ফাংশন ব্যবহার করে সবচেয়ে ভালো learning rate বের করা হচ্ছে।\n",
    "\n",
    "best_lr = find_best_learning_rate()\n",
    "\n",
    "print(f\"🔍 Best learning rate found: {best_lr:.6f}\")"
   ]
  },
  {
   "cell_type": "code",
   "execution_count": null,
   "id": "f19b3bae",
   "metadata": {},
   "outputs": [
    {
     "data": {
      "image/png": "[encoded data removed]",
      "text/plain": [
       "<Figure size 800x500 with 1 Axes>"
      ]
     },
     "metadata": {},
     "output_type": "display_data"
    }
   ],
   "source": [
    "# Step 8.1: Plot Learning Rate vs. Validation Loss\n",
    "\n",
    "# বিভিন্ন learning rate এর জন্য validation loss এর গ্রাফ আঁকা হচ্ছে।\n",
    "\n",
    "import matplotlib.pyplot as plt\n",
    "\n",
    "learning_rates = np.logspace(-6, 0, 30)\n",
    "\n",
    "losses = [train_model(lr) for lr in learning_rates]\n",
    "\n",
    "plt.figure(figsize=(8,5))\n",
    "\n",
    "plt.plot(learning_rates, losses, marker='o')\n",
    "\n",
    "plt.xscale('log')\n",
    "\n",
    "plt.xlabel('Learning Rate')\n",
    "\n",
    "plt.ylabel('Validation Log Loss')\n",
    "\n",
    "plt.title('Learning Rate vs. Validation Loss')\n",
    "\n",
    "plt.grid(True)\n",
    "\n",
    "plt.show()"
   ]
  },
  {
   "cell_type": "code",
   "execution_count": null,
   "id": "37e43901",
   "metadata": {},
   "outputs": [],
   "source": [
    "# Step 9: Train Final Model with Best Learning Rate\n",
    "\n",
    "# পাওয়া learning rate দিয়ে ফাইনাল মডেল ট্রেন করা হচ্ছে।\n",
    "\n",
    "final_model = SGDClassifier(loss='log_loss', learning_rate='constant', eta0=best_lr, max_iter=1000, tol=1e-3, random_state=42)\n",
    "\n",
    "final_model.fit(X_train, y_train)\n",
    "\n",
    "y_pred = final_model.predict(X_val)"
   ]
  },
  {
   "cell_type": "code",
   "execution_count": null,
   "id": "9aa04fea",
   "metadata": {},
   "outputs": [
    {
     "name": "stdout",
     "output_type": "stream",
     "text": [
      "✅ Validation Accuracy using best learning rate: 1.0000\n"
     ]
    }
   ],
   "source": [
    "# Step 10: Accuracy Check\n",
    "\n",
    "# ফাইনাল মডেলের accuracy চেক করা হচ্ছে।\n",
    "\n",
    "accuracy = accuracy_score(y_val, y_pred)\n",
    "\n",
    "print(f\"✅ Validation Accuracy using best learning rate: {accuracy:.4f}\")"
   ]
  },
  {
   "cell_type": "code",
   "execution_count": null,
   "id": "77238e15",
   "metadata": {},
   "outputs": [
    {
     "data": {
      "image/png": "[encoded data removed]",
      "text/plain": [
       "<Figure size 700x500 with 1 Axes>"
      ]
     },
     "metadata": {},
     "output_type": "display_data"
    }
   ],
   "source": [
    "# Step 11: Bar Chart of Predicted vs Actual Species Counts\n",
    "\n",
    "# আসল ও প্রেডিক্টেড স্পিসিসের সংখ্যা তুলনা করে বার চার্ট আঁকা হচ্ছে।\n",
    "\n",
    "import matplotlib.pyplot as plt\n",
    "\n",
    "species_names = encoder.classes_\n",
    "\n",
    "actual_counts = np.bincount(y_val)\n",
    "\n",
    "pred_counts = np.bincount(y_pred)\n",
    "\n",
    "x = np.arange(len(species_names))\n",
    "\n",
    "plt.figure(figsize=(7,5))\n",
    "\n",
    "plt.bar(x - 0.2, actual_counts, width=0.4, label='Actual')\n",
    "\n",
    "plt.bar(x + 0.2, pred_counts, width=0.4, label='Predicted')\n",
    "\n",
    "plt.xticks(x, species_names)\n",
    "\n",
    "plt.xlabel('Species')\n",
    "\n",
    "plt.ylabel('Count')\n",
    "\n",
    "plt.title('Actual vs Predicted Species Counts')\n",
    "\n",
    "plt.legend()\n",
    "\n",
    "plt.show()"
   ]
  },
  {
   "cell_type": "code",
   "execution_count": null,
   "id": "46d0b625",
   "metadata": {},
   "outputs": [],
   "source": []
  },
  {
   "cell_type": "code",
   "execution_count": null,
   "id": "185612f6",
   "metadata": {},
   "outputs": [],
   "source": []
  }
 ],
 "metadata": {
  "kernelspec": {
   "display_name": "base",
   "language": "python",
   "name": "python3"
  },
  "language_info": {
   "codemirror_mode": {
    "name": "ipython",
    "version": 3
   },
   "file_extension": ".py",
   "mimetype": "text/x-python",
   "name": "python",
   "nbconvert_exporter": "python",
   "pygments_lexer": "ipython3",
   "version": "3.13.5"
  }
 },
 "nbformat": 4,
 "nbformat_minor": 5
}
